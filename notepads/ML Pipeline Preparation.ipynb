{
 "cells": [
  {
   "cell_type": "markdown",
   "metadata": {},
   "source": [
    "# ML Pipeline Preparation\n",
    "Follow the instructions below to help you create your ML pipeline.\n",
    "### 1. Import libraries and load data from database.\n",
    "- Import Python libraries\n",
    "- Load dataset from database with [`read_sql_table`](https://pandas.pydata.org/pandas-docs/stable/generated/pandas.read_sql_table.html)\n",
    "- Define feature and target variables X and Y"
   ]
  },
  {
   "cell_type": "code",
   "execution_count": 10,
   "metadata": {},
   "outputs": [],
   "source": [
    "# import libraries\n",
    "import pandas as pd\n",
    "from sqlalchemy import create_engine\n",
    "import re\n",
    "import nltk\n",
    "import string\n",
    "import numpy as np\n",
    "\n",
    "from sklearn.ensemble import RandomForestClassifier\n",
    "from sklearn.feature_extraction.text import TfidfVectorizer\n",
    "from sklearn.multioutput import MultiOutputClassifier\n",
    "from sklearn.pipeline import Pipeline\n",
    "\n",
    "from sklearn.model_selection import train_test_split\n",
    "from sklearn.metrics import classification_report\n",
    "from sklearn.model_selection import GridSearchCV\n",
    "\n",
    "from sklearn.metrics import accuracy_score, precision_score, recall_score"
   ]
  },
  {
   "cell_type": "code",
   "execution_count": 11,
   "metadata": {},
   "outputs": [
    {
     "name": "stdout",
     "output_type": "stream",
     "text": [
      "[nltk_data] Downloading package punkt to /root/nltk_data...\n",
      "[nltk_data]   Package punkt is already up-to-date!\n",
      "[nltk_data] Downloading package wordnet to /root/nltk_data...\n",
      "[nltk_data]   Package wordnet is already up-to-date!\n",
      "[nltk_data] Downloading package stopwords to /root/nltk_data...\n",
      "[nltk_data]   Package stopwords is already up-to-date!\n"
     ]
    },
    {
     "data": {
      "text/plain": [
       "True"
      ]
     },
     "execution_count": 11,
     "metadata": {},
     "output_type": "execute_result"
    }
   ],
   "source": [
    "nltk.download(['punkt', 'wordnet', 'stopwords'])"
   ]
  },
  {
   "cell_type": "code",
   "execution_count": 43,
   "metadata": {},
   "outputs": [
    {
     "name": "stdout",
     "output_type": "stream",
     "text": [
      "[nltk_data] Downloading package averaged_perceptron_tagger to\n",
      "[nltk_data]     /root/nltk_data...\n",
      "[nltk_data]   Unzipping taggers/averaged_perceptron_tagger.zip.\n"
     ]
    },
    {
     "data": {
      "text/plain": [
       "True"
      ]
     },
     "execution_count": 43,
     "metadata": {},
     "output_type": "execute_result"
    }
   ],
   "source": [
    "nltk.download(['averaged_perceptron_tagger'])"
   ]
  },
  {
   "cell_type": "code",
   "execution_count": 12,
   "metadata": {},
   "outputs": [
    {
     "name": "stdout",
     "output_type": "stream",
     "text": [
      "Engine(sqlite:///DisasterResponse.db)\n"
     ]
    }
   ],
   "source": [
    "# load data from database\n",
    "engine = create_engine('sqlite:///DisasterResponse.db')\n",
    "print(engine)\n",
    "df = pd.read_sql_table('labeled_messages', engine)\n",
    "X = df['message']\n",
    "Y = df.drop(['message', 'genre', 'id', 'original'], axis=1) "
   ]
  },
  {
   "cell_type": "markdown",
   "metadata": {},
   "source": [
    "### 2. Write a tokenization function to process your text data"
   ]
  },
  {
   "cell_type": "code",
   "execution_count": 13,
   "metadata": {},
   "outputs": [],
   "source": [
    "stop_words = nltk.corpus.stopwords.words(\"english\")\n",
    "lemmatizer = nltk.stem.wordnet.WordNetLemmatizer()\n",
    "remove_punc_table = str.maketrans('', '', string.punctuation)"
   ]
  },
  {
   "cell_type": "code",
   "execution_count": 49,
   "metadata": {},
   "outputs": [],
   "source": [
    "def tokenize(text):\n",
    "    # normalize case and remove punctuation\n",
    "    text = text.translate(remove_punc_table).lower()\n",
    "    \n",
    "    # tokenize text\n",
    "    tokens = nltk.word_tokenize(text)\n",
    "    \n",
    "    # lemmatize and remove stop words\n",
    "    #return [lemmatizer.lemmatize(word) for word in tokens if word not in stop_words]\n",
    "    return [lemmatizer.lemmatize(word).lower().strip() for word in tokens if word not in stop_words]\n"
   ]
  },
  {
   "cell_type": "markdown",
   "metadata": {},
   "source": [
    "### 3. Build a machine learning pipeline\n",
    "This machine pipeline should take in the `message` column as input and output classification results on the other 36 categories in the dataset. You may find the [MultiOutputClassifier](http://scikit-learn.org/stable/modules/generated/sklearn.multioutput.MultiOutputClassifier.html) helpful for predicting multiple target variables."
   ]
  },
  {
   "cell_type": "code",
   "execution_count": 15,
   "metadata": {},
   "outputs": [],
   "source": [
    "forest_clf = RandomForestClassifier(n_estimators=10)\n",
    "pipeline = Pipeline([\n",
    "                    ('tfidf', TfidfVectorizer(tokenizer=tokenize)),\n",
    "                    ('forest', MultiOutputClassifier(forest_clf))\n",
    "                    ])"
   ]
  },
  {
   "cell_type": "markdown",
   "metadata": {},
   "source": [
    "### 4. Train pipeline\n",
    "- Split data into train and test sets\n",
    "- Train pipeline"
   ]
  },
  {
   "cell_type": "code",
   "execution_count": 16,
   "metadata": {},
   "outputs": [],
   "source": [
    "X_train, X_test, Y_train, Y_test = train_test_split(X, Y, test_size=0.33, random_state=42)"
   ]
  },
  {
   "cell_type": "code",
   "execution_count": 17,
   "metadata": {},
   "outputs": [],
   "source": [
    "#X_train"
   ]
  },
  {
   "cell_type": "code",
   "execution_count": 18,
   "metadata": {},
   "outputs": [
    {
     "data": {
      "text/plain": [
       "Pipeline(memory=None,\n",
       "         steps=[('tfidf',\n",
       "                 TfidfVectorizer(analyzer='word', binary=False,\n",
       "                                 decode_error='strict',\n",
       "                                 dtype=<class 'numpy.float64'>,\n",
       "                                 encoding='utf-8', input='content',\n",
       "                                 lowercase=True, max_df=1.0, max_features=None,\n",
       "                                 min_df=1, ngram_range=(1, 1), norm='l2',\n",
       "                                 preprocessor=None, smooth_idf=True,\n",
       "                                 stop_words=None, strip_accents=None,\n",
       "                                 sublinear_tf=False,\n",
       "                                 token_pattern='...\n",
       "                                                                        ccp_alpha=0.0,\n",
       "                                                                        class_weight=None,\n",
       "                                                                        criterion='gini',\n",
       "                                                                        max_depth=None,\n",
       "                                                                        max_features='auto',\n",
       "                                                                        max_leaf_nodes=None,\n",
       "                                                                        max_samples=None,\n",
       "                                                                        min_impurity_decrease=0.0,\n",
       "                                                                        min_impurity_split=None,\n",
       "                                                                        min_samples_leaf=1,\n",
       "                                                                        min_samples_split=2,\n",
       "                                                                        min_weight_fraction_leaf=0.0,\n",
       "                                                                        n_estimators=10,\n",
       "                                                                        n_jobs=None,\n",
       "                                                                        oob_score=False,\n",
       "                                                                        random_state=None,\n",
       "                                                                        verbose=0,\n",
       "                                                                        warm_start=False),\n",
       "                                       n_jobs=None))],\n",
       "         verbose=False)"
      ]
     },
     "execution_count": 18,
     "metadata": {},
     "output_type": "execute_result"
    }
   ],
   "source": [
    "pipeline.fit(X_train, Y_train)"
   ]
  },
  {
   "cell_type": "markdown",
   "metadata": {},
   "source": [
    "### 5. Test your model\n",
    "Report the f1 score, precision and recall for each output category of the dataset. You can do this by iterating through the columns and calling sklearn's `classification_report` on each."
   ]
  },
  {
   "cell_type": "code",
   "execution_count": 19,
   "metadata": {},
   "outputs": [],
   "source": [
    "Y_pred = pipeline.predict(X_test)"
   ]
  },
  {
   "cell_type": "code",
   "execution_count": 20,
   "metadata": {},
   "outputs": [
    {
     "name": "stdout",
     "output_type": "stream",
     "text": [
      "related\n",
      "              precision    recall  f1-score   support\n",
      "\n",
      "         0.0       0.31      0.14      0.20      2096\n",
      "         1.0       0.76      0.90      0.82      6497\n",
      "\n",
      "    accuracy                           0.71      8593\n",
      "   macro avg       0.54      0.52      0.51      8593\n",
      "weighted avg       0.65      0.71      0.67      8593\n",
      "\n",
      "request\n",
      "              precision    recall  f1-score   support\n",
      "\n",
      "         0.0       0.84      0.98      0.90      7117\n",
      "         1.0       0.41      0.08      0.14      1476\n",
      "\n",
      "    accuracy                           0.82      8593\n",
      "   macro avg       0.62      0.53      0.52      8593\n",
      "weighted avg       0.76      0.82      0.77      8593\n",
      "\n",
      "offer\n",
      "              precision    recall  f1-score   support\n",
      "\n",
      "         0.0       0.99      1.00      1.00      8547\n",
      "         1.0       0.00      0.00      0.00        46\n",
      "\n",
      "    accuracy                           0.99      8593\n",
      "   macro avg       0.50      0.50      0.50      8593\n",
      "weighted avg       0.99      0.99      0.99      8593\n",
      "\n",
      "aid_related\n",
      "              precision    recall  f1-score   support\n",
      "\n",
      "         0.0       0.61      0.81      0.69      5105\n",
      "         1.0       0.46      0.23      0.31      3488\n",
      "\n",
      "    accuracy                           0.58      8593\n",
      "   macro avg       0.53      0.52      0.50      8593\n",
      "weighted avg       0.55      0.58      0.54      8593\n",
      "\n",
      "medical_help\n",
      "              precision    recall  f1-score   support\n",
      "\n",
      "         0.0       0.92      0.99      0.96      7924\n",
      "         1.0       0.08      0.01      0.01       669\n",
      "\n",
      "    accuracy                           0.92      8593\n",
      "   macro avg       0.50      0.50      0.48      8593\n",
      "weighted avg       0.86      0.92      0.88      8593\n",
      "\n",
      "medical_products\n",
      "              precision    recall  f1-score   support\n",
      "\n",
      "         0.0       0.95      1.00      0.97      8161\n",
      "         1.0       0.03      0.00      0.00       432\n",
      "\n",
      "    accuracy                           0.95      8593\n",
      "   macro avg       0.49      0.50      0.49      8593\n",
      "weighted avg       0.90      0.95      0.92      8593\n",
      "\n",
      "search_and_rescue\n",
      "              precision    recall  f1-score   support\n",
      "\n",
      "         0.0       0.97      1.00      0.99      8348\n",
      "         1.0       0.00      0.00      0.00       245\n",
      "\n",
      "    accuracy                           0.97      8593\n",
      "   macro avg       0.49      0.50      0.49      8593\n",
      "weighted avg       0.94      0.97      0.96      8593\n",
      "\n",
      "security\n",
      "              precision    recall  f1-score   support\n",
      "\n",
      "         0.0       0.98      1.00      0.99      8426\n",
      "         1.0       0.00      0.00      0.00       167\n",
      "\n",
      "    accuracy                           0.98      8593\n",
      "   macro avg       0.49      0.50      0.50      8593\n",
      "weighted avg       0.96      0.98      0.97      8593\n",
      "\n",
      "military\n",
      "              precision    recall  f1-score   support\n",
      "\n",
      "         0.0       0.97      1.00      0.98      8328\n",
      "         1.0       0.00      0.00      0.00       265\n",
      "\n",
      "    accuracy                           0.97      8593\n",
      "   macro avg       0.48      0.50      0.49      8593\n",
      "weighted avg       0.94      0.97      0.95      8593\n",
      "\n",
      "child_alone\n",
      "              precision    recall  f1-score   support\n",
      "\n",
      "         0.0       1.00      1.00      1.00      8593\n",
      "\n",
      "    accuracy                           1.00      8593\n",
      "   macro avg       1.00      1.00      1.00      8593\n",
      "weighted avg       1.00      1.00      1.00      8593\n",
      "\n",
      "water\n",
      "              precision    recall  f1-score   support\n",
      "\n",
      "         0.0       0.94      1.00      0.96      8038\n",
      "         1.0       0.09      0.01      0.01       555\n",
      "\n",
      "    accuracy                           0.93      8593\n",
      "   macro avg       0.51      0.50      0.49      8593\n",
      "weighted avg       0.88      0.93      0.90      8593\n",
      "\n",
      "food\n"
     ]
    },
    {
     "name": "stderr",
     "output_type": "stream",
     "text": [
      "/opt/conda/lib/python3.6/site-packages/sklearn/metrics/_classification.py:1272: UndefinedMetricWarning: Precision and F-score are ill-defined and being set to 0.0 in labels with no predicted samples. Use `zero_division` parameter to control this behavior.\n",
      "  _warn_prf(average, modifier, msg_start, len(result))\n"
     ]
    },
    {
     "name": "stdout",
     "output_type": "stream",
     "text": [
      "              precision    recall  f1-score   support\n",
      "\n",
      "         0.0       0.89      0.99      0.94      7623\n",
      "         1.0       0.20      0.01      0.02       970\n",
      "\n",
      "    accuracy                           0.88      8593\n",
      "   macro avg       0.54      0.50      0.48      8593\n",
      "weighted avg       0.81      0.88      0.83      8593\n",
      "\n",
      "shelter\n",
      "              precision    recall  f1-score   support\n",
      "\n",
      "         0.0       0.91      0.99      0.95      7833\n",
      "         1.0       0.10      0.01      0.02       760\n",
      "\n",
      "    accuracy                           0.91      8593\n",
      "   macro avg       0.51      0.50      0.48      8593\n",
      "weighted avg       0.84      0.91      0.87      8593\n",
      "\n",
      "clothing\n",
      "              precision    recall  f1-score   support\n",
      "\n",
      "         0.0       0.98      1.00      0.99      8453\n",
      "         1.0       0.00      0.00      0.00       140\n",
      "\n",
      "    accuracy                           0.98      8593\n",
      "   macro avg       0.49      0.50      0.50      8593\n",
      "weighted avg       0.97      0.98      0.98      8593\n",
      "\n",
      "money\n",
      "              precision    recall  f1-score   support\n",
      "\n",
      "         0.0       0.98      1.00      0.99      8388\n",
      "         1.0       0.00      0.00      0.00       205\n",
      "\n",
      "    accuracy                           0.98      8593\n",
      "   macro avg       0.49      0.50      0.49      8593\n",
      "weighted avg       0.95      0.98      0.96      8593\n",
      "\n",
      "missing_people\n",
      "              precision    recall  f1-score   support\n",
      "\n",
      "         0.0       0.99      1.00      0.99      8489\n",
      "         1.0       0.00      0.00      0.00       104\n",
      "\n",
      "    accuracy                           0.99      8593\n",
      "   macro avg       0.49      0.50      0.50      8593\n",
      "weighted avg       0.98      0.99      0.98      8593\n",
      "\n",
      "refugees\n",
      "              precision    recall  f1-score   support\n",
      "\n",
      "         0.0       0.97      1.00      0.98      8318\n",
      "         1.0       0.00      0.00      0.00       275\n",
      "\n",
      "    accuracy                           0.97      8593\n",
      "   macro avg       0.48      0.50      0.49      8593\n",
      "weighted avg       0.94      0.97      0.95      8593\n",
      "\n",
      "death\n",
      "              precision    recall  f1-score   support\n",
      "\n",
      "         0.0       0.96      1.00      0.98      8231\n",
      "         1.0       0.05      0.00      0.01       362\n",
      "\n",
      "    accuracy                           0.96      8593\n",
      "   macro avg       0.51      0.50      0.49      8593\n",
      "weighted avg       0.92      0.96      0.94      8593\n",
      "\n",
      "other_aid\n",
      "              precision    recall  f1-score   support\n",
      "\n",
      "         0.0       0.87      0.99      0.93      7497\n",
      "         1.0       0.16      0.02      0.03      1096\n",
      "\n",
      "    accuracy                           0.86      8593\n",
      "   macro avg       0.51      0.50      0.48      8593\n",
      "weighted avg       0.78      0.86      0.81      8593\n",
      "\n",
      "infrastructure_related\n",
      "              precision    recall  f1-score   support\n",
      "\n",
      "         0.0       0.94      1.00      0.97      8066\n",
      "         1.0       0.15      0.01      0.01       527\n",
      "\n",
      "    accuracy                           0.94      8593\n",
      "   macro avg       0.54      0.50      0.49      8593\n",
      "weighted avg       0.89      0.94      0.91      8593\n",
      "\n",
      "transport\n",
      "              precision    recall  f1-score   support\n",
      "\n",
      "         0.0       0.96      1.00      0.98      8232\n",
      "         1.0       0.06      0.00      0.01       361\n",
      "\n",
      "    accuracy                           0.96      8593\n",
      "   macro avg       0.51      0.50      0.49      8593\n",
      "weighted avg       0.92      0.96      0.94      8593\n",
      "\n",
      "buildings\n",
      "              precision    recall  f1-score   support\n",
      "\n",
      "         0.0       0.95      1.00      0.97      8153\n",
      "         1.0       0.07      0.00      0.01       440\n",
      "\n",
      "    accuracy                           0.95      8593\n",
      "   macro avg       0.51      0.50      0.49      8593\n",
      "weighted avg       0.90      0.95      0.92      8593\n",
      "\n",
      "electricity\n",
      "              precision    recall  f1-score   support\n",
      "\n",
      "         0.0       0.98      1.00      0.99      8417\n",
      "         1.0       0.00      0.00      0.00       176\n",
      "\n",
      "    accuracy                           0.98      8593\n",
      "   macro avg       0.49      0.50      0.49      8593\n",
      "weighted avg       0.96      0.98      0.97      8593\n",
      "\n",
      "tools\n",
      "              precision    recall  f1-score   support\n",
      "\n",
      "         0.0       0.99      1.00      1.00      8546\n",
      "         1.0       0.00      0.00      0.00        47\n",
      "\n",
      "    accuracy                           0.99      8593\n",
      "   macro avg       0.50      0.50      0.50      8593\n",
      "weighted avg       0.99      0.99      0.99      8593\n",
      "\n",
      "hospitals\n",
      "              precision    recall  f1-score   support\n",
      "\n",
      "         0.0       0.99      1.00      0.99      8501\n",
      "         1.0       0.00      0.00      0.00        92\n",
      "\n",
      "    accuracy                           0.99      8593\n",
      "   macro avg       0.49      0.50      0.50      8593\n",
      "weighted avg       0.98      0.99      0.98      8593\n",
      "\n",
      "shops\n",
      "              precision    recall  f1-score   support\n",
      "\n",
      "         0.0       1.00      1.00      1.00      8553\n",
      "         1.0       0.00      0.00      0.00        40\n",
      "\n",
      "    accuracy                           1.00      8593\n",
      "   macro avg       0.50      0.50      0.50      8593\n",
      "weighted avg       0.99      1.00      0.99      8593\n",
      "\n",
      "aid_centers\n",
      "              precision    recall  f1-score   support\n",
      "\n",
      "         0.0       0.99      1.00      0.99      8500\n",
      "         1.0       0.00      0.00      0.00        93\n",
      "\n",
      "    accuracy                           0.99      8593\n",
      "   macro avg       0.49      0.50      0.50      8593\n",
      "weighted avg       0.98      0.99      0.98      8593\n",
      "\n",
      "other_infrastructure\n",
      "              precision    recall  f1-score   support\n",
      "\n",
      "         0.0       0.96      1.00      0.98      8242\n",
      "         1.0       0.17      0.01      0.02       351\n",
      "\n",
      "    accuracy                           0.96      8593\n",
      "   macro avg       0.56      0.50      0.50      8593\n",
      "weighted avg       0.93      0.96      0.94      8593\n",
      "\n",
      "weather_related\n",
      "              precision    recall  f1-score   support\n",
      "\n",
      "         0.0       0.74      0.94      0.83      6190\n",
      "         1.0       0.53      0.17      0.25      2403\n",
      "\n",
      "    accuracy                           0.72      8593\n",
      "   macro avg       0.63      0.55      0.54      8593\n",
      "weighted avg       0.68      0.72      0.67      8593\n",
      "\n",
      "floods\n",
      "              precision    recall  f1-score   support\n",
      "\n",
      "         0.0       0.92      1.00      0.96      7903\n",
      "         1.0       0.13      0.01      0.01       690\n",
      "\n",
      "    accuracy                           0.92      8593\n",
      "   macro avg       0.53      0.50      0.49      8593\n",
      "weighted avg       0.86      0.92      0.88      8593\n",
      "\n",
      "storm\n",
      "              precision    recall  f1-score   support\n",
      "\n",
      "         0.0       0.91      0.99      0.95      7777\n",
      "         1.0       0.35      0.03      0.06       816\n",
      "\n",
      "    accuracy                           0.90      8593\n",
      "   macro avg       0.63      0.51      0.50      8593\n",
      "weighted avg       0.85      0.90      0.86      8593\n",
      "\n",
      "fire\n",
      "              precision    recall  f1-score   support\n",
      "\n",
      "         0.0       0.99      1.00      0.99      8499\n",
      "         1.0       0.00      0.00      0.00        94\n",
      "\n",
      "    accuracy                           0.99      8593\n",
      "   macro avg       0.49      0.50      0.50      8593\n",
      "weighted avg       0.98      0.99      0.98      8593\n",
      "\n",
      "earthquake\n",
      "              precision    recall  f1-score   support\n",
      "\n",
      "         0.0       0.92      0.99      0.95      7770\n",
      "         1.0       0.63      0.16      0.26       823\n",
      "\n",
      "    accuracy                           0.91      8593\n",
      "   macro avg       0.78      0.58      0.60      8593\n",
      "weighted avg       0.89      0.91      0.89      8593\n",
      "\n",
      "cold\n",
      "              precision    recall  f1-score   support\n",
      "\n",
      "         0.0       0.98      1.00      0.99      8414\n",
      "         1.0       0.00      0.00      0.00       179\n",
      "\n",
      "    accuracy                           0.98      8593\n",
      "   macro avg       0.49      0.50      0.49      8593\n",
      "weighted avg       0.96      0.98      0.97      8593\n",
      "\n",
      "other_weather\n",
      "              precision    recall  f1-score   support\n",
      "\n",
      "         0.0       0.95      1.00      0.97      8139\n",
      "         1.0       0.20      0.01      0.02       454\n",
      "\n",
      "    accuracy                           0.95      8593\n",
      "   macro avg       0.57      0.50      0.49      8593\n",
      "weighted avg       0.91      0.95      0.92      8593\n",
      "\n",
      "direct_report\n",
      "              precision    recall  f1-score   support\n",
      "\n",
      "         0.0       0.81      0.97      0.88      6910\n",
      "         1.0       0.39      0.08      0.13      1683\n",
      "\n",
      "    accuracy                           0.80      8593\n",
      "   macro avg       0.60      0.52      0.51      8593\n",
      "weighted avg       0.73      0.80      0.74      8593\n",
      "\n"
     ]
    }
   ],
   "source": [
    "for i, col in enumerate(Y_test):\n",
    "    print(col)\n",
    "    print(classification_report(Y_test[col], Y_pred[:, i]))"
   ]
  },
  {
   "cell_type": "markdown",
   "metadata": {},
   "source": [
    "### 6. Improve your model\n",
    "Use grid search to find better parameters. "
   ]
  },
  {
   "cell_type": "code",
   "execution_count": 21,
   "metadata": {},
   "outputs": [],
   "source": [
    "'''\n",
    "parameters = {\n",
    "    'tfidf__ngram_range': ((1, 1), (1, 2)),\n",
    "    'tfidf__max_df': (0.8, 1.0),\n",
    "    'tfidf__max_features': (None, 10000),\n",
    "    'forest__estimator__n_estimators': [50, 100],\n",
    "    'forest__estimator__min_samples_split': [2, 4]\n",
    "}\n",
    "'''\n",
    "\n",
    "parameters = {\n",
    "    'tfidf__ngram_range': ((1, 1), (1, 2))\n",
    "}\n",
    "\n",
    "cv = GridSearchCV(pipeline, parameters, cv=3, n_jobs=-1, verbose= 10)"
   ]
  },
  {
   "cell_type": "code",
   "execution_count": 22,
   "metadata": {},
   "outputs": [
    {
     "name": "stdout",
     "output_type": "stream",
     "text": [
      "Fitting 3 folds for each of 2 candidates, totalling 6 fits\n",
      "[CV] tfidf__ngram_range=(1, 1) .......................................\n",
      "[CV] ........... tfidf__ngram_range=(1, 1), score=0.139, total=  48.2s\n",
      "[CV] tfidf__ngram_range=(1, 1) .......................................\n"
     ]
    },
    {
     "name": "stderr",
     "output_type": "stream",
     "text": [
      "[Parallel(n_jobs=-1)]: Done   1 out of   1 | elapsed:   48.2s remaining:    0.0s\n"
     ]
    },
    {
     "name": "stdout",
     "output_type": "stream",
     "text": [
      "[CV] ........... tfidf__ngram_range=(1, 1), score=0.149, total=  49.4s\n",
      "[CV] tfidf__ngram_range=(1, 1) .......................................\n"
     ]
    },
    {
     "name": "stderr",
     "output_type": "stream",
     "text": [
      "[Parallel(n_jobs=-1)]: Done   2 out of   2 | elapsed:  1.6min remaining:    0.0s\n"
     ]
    },
    {
     "name": "stdout",
     "output_type": "stream",
     "text": [
      "[CV] ........... tfidf__ngram_range=(1, 1), score=0.141, total=  48.5s\n",
      "[CV] tfidf__ngram_range=(1, 2) .......................................\n"
     ]
    },
    {
     "name": "stderr",
     "output_type": "stream",
     "text": [
      "[Parallel(n_jobs=-1)]: Done   3 out of   3 | elapsed:  2.4min remaining:    0.0s\n"
     ]
    },
    {
     "name": "stdout",
     "output_type": "stream",
     "text": [
      "[CV] ........... tfidf__ngram_range=(1, 2), score=0.133, total= 1.5min\n",
      "[CV] tfidf__ngram_range=(1, 2) .......................................\n"
     ]
    },
    {
     "name": "stderr",
     "output_type": "stream",
     "text": [
      "[Parallel(n_jobs=-1)]: Done   4 out of   4 | elapsed:  4.0min remaining:    0.0s\n"
     ]
    },
    {
     "name": "stdout",
     "output_type": "stream",
     "text": [
      "[CV] ........... tfidf__ngram_range=(1, 2), score=0.138, total= 1.6min\n",
      "[CV] tfidf__ngram_range=(1, 2) .......................................\n"
     ]
    },
    {
     "name": "stderr",
     "output_type": "stream",
     "text": [
      "[Parallel(n_jobs=-1)]: Done   5 out of   5 | elapsed:  5.5min remaining:    0.0s\n"
     ]
    },
    {
     "name": "stdout",
     "output_type": "stream",
     "text": [
      "[CV] ........... tfidf__ngram_range=(1, 2), score=0.132, total= 1.5min\n"
     ]
    },
    {
     "name": "stderr",
     "output_type": "stream",
     "text": [
      "[Parallel(n_jobs=-1)]: Done   6 out of   6 | elapsed:  7.0min remaining:    0.0s\n",
      "[Parallel(n_jobs=-1)]: Done   6 out of   6 | elapsed:  7.0min finished\n"
     ]
    },
    {
     "data": {
      "text/plain": [
       "GridSearchCV(cv=3, error_score=nan,\n",
       "             estimator=Pipeline(memory=None,\n",
       "                                steps=[('tfidf',\n",
       "                                        TfidfVectorizer(analyzer='word',\n",
       "                                                        binary=False,\n",
       "                                                        decode_error='strict',\n",
       "                                                        dtype=<class 'numpy.float64'>,\n",
       "                                                        encoding='utf-8',\n",
       "                                                        input='content',\n",
       "                                                        lowercase=True,\n",
       "                                                        max_df=1.0,\n",
       "                                                        max_features=None,\n",
       "                                                        min_df=1,\n",
       "                                                        ngram_range=(1, 1),\n",
       "                                                        norm='l2',\n",
       "                                                        preprocessor=None,\n",
       "                                                        smooth_idf=True,\n",
       "                                                        stop_words=None,\n",
       "                                                        strip_acc...\n",
       "                                                                                               min_impurity_split=None,\n",
       "                                                                                               min_samples_leaf=1,\n",
       "                                                                                               min_samples_split=2,\n",
       "                                                                                               min_weight_fraction_leaf=0.0,\n",
       "                                                                                               n_estimators=10,\n",
       "                                                                                               n_jobs=None,\n",
       "                                                                                               oob_score=False,\n",
       "                                                                                               random_state=None,\n",
       "                                                                                               verbose=0,\n",
       "                                                                                               warm_start=False),\n",
       "                                                              n_jobs=None))],\n",
       "                                verbose=False),\n",
       "             iid='deprecated', n_jobs=-1,\n",
       "             param_grid={'tfidf__ngram_range': ((1, 1), (1, 2))},\n",
       "             pre_dispatch='2*n_jobs', refit=True, return_train_score=False,\n",
       "             scoring=None, verbose=10)"
      ]
     },
     "execution_count": 22,
     "metadata": {},
     "output_type": "execute_result"
    }
   ],
   "source": [
    "cv.fit(X_train, Y_train)"
   ]
  },
  {
   "cell_type": "markdown",
   "metadata": {},
   "source": [
    "### 7. Test your model\n",
    "Show the accuracy, precision, and recall of the tuned model.  \n",
    "\n",
    "Since this project focuses on code quality, process, and  pipelines, there is no minimum performance metric needed to pass. However, make sure to fine tune your models for accuracy, precision and recall to make your project stand out - especially for your portfolio!"
   ]
  },
  {
   "cell_type": "code",
   "execution_count": 23,
   "metadata": {},
   "outputs": [],
   "source": [
    "def evaluate_model(model, X_test, Y_test):\n",
    "    Y_pred = model.predict(X_test)\n",
    "    print(classification_report(Y_test, Y_pred, target_names=category_names))\n",
    "#     print('Accuracy: ', accuracy_score(Y_test, Y_pred))\n",
    "#     print('Precision: ', precision_score(Y_test, Y_pred, average='weighted'))\n",
    "#     print('Recall: ', recall_score(Y_test, Y_pred, average='weighted'))"
   ]
  },
  {
   "cell_type": "code",
   "execution_count": 24,
   "metadata": {},
   "outputs": [
    {
     "name": "stdout",
     "output_type": "stream",
     "text": [
      "Accuracy:  0.144652624229\n",
      "Precision:  0.400912141504\n",
      "Recall:  0.277450871544\n"
     ]
    },
    {
     "name": "stderr",
     "output_type": "stream",
     "text": [
      "/opt/conda/lib/python3.6/site-packages/sklearn/metrics/_classification.py:1272: UndefinedMetricWarning: Precision is ill-defined and being set to 0.0 in labels with no predicted samples. Use `zero_division` parameter to control this behavior.\n",
      "  _warn_prf(average, modifier, msg_start, len(result))\n",
      "/opt/conda/lib/python3.6/site-packages/sklearn/metrics/_classification.py:1272: UndefinedMetricWarning: Recall is ill-defined and being set to 0.0 in labels with no true samples. Use `zero_division` parameter to control this behavior.\n",
      "  _warn_prf(average, modifier, msg_start, len(result))\n"
     ]
    }
   ],
   "source": [
    "print('Accuracy: ', accuracy_score(Y_test, Y_pred))\n",
    "print('Precision: ', precision_score(Y_test, Y_pred, average='weighted'))\n",
    "print('Recall: ', recall_score(Y_test, Y_pred, average='weighted'))"
   ]
  },
  {
   "cell_type": "markdown",
   "metadata": {},
   "source": [
    "### 8. Try improving your model further. Here are a few ideas:\n",
    "* try other machine learning algorithms\n",
    "* add other features besides the TF-IDF"
   ]
  },
  {
   "cell_type": "code",
   "execution_count": 37,
   "metadata": {},
   "outputs": [],
   "source": [
    "from sklearn.base import BaseEstimator, TransformerMixin\n",
    "from sklearn.model_selection import train_test_split\n",
    "from sklearn.multioutput import MultiOutputClassifier\n",
    "from sklearn.ensemble import RandomForestClassifier, GradientBoostingClassifier,AdaBoostClassifier\n",
    "from sklearn.feature_extraction.text import CountVectorizer, TfidfTransformer\n",
    "from nltk.tokenize import word_tokenize\n",
    "from nltk.stem import WordNetLemmatizer\n",
    "from sklearn.pipeline import Pipeline, FeatureUnion\n",
    "from sklearn.model_selection import GridSearchCV\n",
    "from sklearn.metrics import make_scorer, accuracy_score, f1_score, fbeta_score, classification_report\n",
    "from scipy.stats import hmean\n",
    "from scipy.stats.mstats import gmean"
   ]
  },
  {
   "cell_type": "code",
   "execution_count": 53,
   "metadata": {},
   "outputs": [],
   "source": [
    "def tokenize_text(text):\n",
    "    url_regex = 'http[s]?://(?:[a-zA-Z]|[0-9]|[$-_@.&+]|[!*\\(\\),]|(?:%[0-9a-fA-F][0-9a-fA-F]))+'\n",
    "    detected_urls = re.findall(url_regex, text)\n",
    "    for url in detected_urls:\n",
    "        text = text.replace(url, \"urlplaceholder\")\n",
    "\n",
    "    tokens = word_tokenize(text)\n",
    "    lemmatizer = WordNetLemmatizer()\n",
    "\n",
    "    clean_tokens = []\n",
    "    for tok in tokens:\n",
    "        clean_tok = lemmatizer.lemmatize(tok).lower().strip()\n",
    "        clean_tokens.append(clean_tok)\n",
    "\n",
    "    return clean_tokens"
   ]
  },
  {
   "cell_type": "code",
   "execution_count": 57,
   "metadata": {},
   "outputs": [],
   "source": [
    "class StartingVerbExtractor(BaseEstimator, TransformerMixin):\n",
    "\n",
    "    def starting_verb(self, text):\n",
    "        sentence_list = nltk.sent_tokenize(text)\n",
    "        for sentence in sentence_list:\n",
    "            pos_tags = nltk.pos_tag(tokenize_text(sentence))\n",
    "            if len(pos_tags) == 0:\n",
    "                print('pos_tags:', pos_tags)\n",
    "            first_word, first_tag = pos_tags[0]\n",
    "            if first_tag in ['VB', 'VBP'] or first_word == 'RT':\n",
    "                return True\n",
    "        return False\n",
    "\n",
    "    def fit(self, X, y=None):\n",
    "        return self\n",
    "\n",
    "    def transform(self, X):\n",
    "        X_tagged = pd.Series(X).apply(self.starting_verb)\n",
    "        return pd.DataFrame(X_tagged)"
   ]
  },
  {
   "cell_type": "code",
   "execution_count": 58,
   "metadata": {},
   "outputs": [],
   "source": [
    "def new_model_pipeline():\n",
    "    pipeline = Pipeline([\n",
    "        ('features', FeatureUnion([\n",
    "\n",
    "            ('text_pipeline', Pipeline([\n",
    "                ('vect', CountVectorizer(tokenizer=tokenize)),\n",
    "                ('tfidf', TfidfTransformer())\n",
    "            ])),\n",
    "\n",
    "            ('starting_verb', StartingVerbExtractor())\n",
    "        ])),\n",
    "\n",
    "        ('clf', MultiOutputClassifier(AdaBoostClassifier()))\n",
    "    ])\n",
    "\n",
    "    return pipeline"
   ]
  },
  {
   "cell_type": "code",
   "execution_count": 59,
   "metadata": {},
   "outputs": [],
   "source": [
    "def multioutput_fscore(y_true,y_pred,beta=1):\n",
    "    score_list = []\n",
    "    if isinstance(y_pred, pd.DataFrame) == True:\n",
    "        y_pred = y_pred.values\n",
    "    if isinstance(y_true, pd.DataFrame) == True:\n",
    "        y_true = y_true.values\n",
    "    for column in range(0,y_true.shape[1]):\n",
    "        score = fbeta_score(y_true[:,column],y_pred[:,column],beta,average='weighted')\n",
    "        score_list.append(score)\n",
    "    f1score_numpy = np.asarray(score_list)\n",
    "    f1score_numpy = f1score_numpy[f1score_numpy<1]\n",
    "    f1score = gmean(f1score_numpy)\n",
    "    return  f1score"
   ]
  },
  {
   "cell_type": "code",
   "execution_count": 60,
   "metadata": {},
   "outputs": [
    {
     "name": "stdout",
     "output_type": "stream",
     "text": [
      "Fitting 5 folds for each of 2 candidates, totalling 10 fits\n",
      "[CV] features__text_pipeline__vect__ngram_range=(1, 1) ...............\n",
      "[CV]  features__text_pipeline__vect__ngram_range=(1, 1), total= 1.9min\n",
      "[CV] features__text_pipeline__vect__ngram_range=(1, 1) ...............\n"
     ]
    },
    {
     "name": "stderr",
     "output_type": "stream",
     "text": [
      "[Parallel(n_jobs=-1)]: Done   1 out of   1 | elapsed:  1.9min remaining:    0.0s\n"
     ]
    },
    {
     "name": "stdout",
     "output_type": "stream",
     "text": [
      "[CV]  features__text_pipeline__vect__ngram_range=(1, 1), total= 1.9min\n",
      "[CV] features__text_pipeline__vect__ngram_range=(1, 1) ...............\n",
      "[CV]  features__text_pipeline__vect__ngram_range=(1, 1), total= 1.9min\n",
      "[CV] features__text_pipeline__vect__ngram_range=(1, 1) ...............\n",
      "[CV]  features__text_pipeline__vect__ngram_range=(1, 1), total= 1.9min\n",
      "[CV] features__text_pipeline__vect__ngram_range=(1, 1) ...............\n",
      "[CV]  features__text_pipeline__vect__ngram_range=(1, 1), total= 1.9min\n",
      "[CV] features__text_pipeline__vect__ngram_range=(1, 2) ...............\n",
      "[CV]  features__text_pipeline__vect__ngram_range=(1, 2), total= 3.6min\n",
      "[CV] features__text_pipeline__vect__ngram_range=(1, 2) ...............\n",
      "[CV]  features__text_pipeline__vect__ngram_range=(1, 2), total= 3.4min\n",
      "[CV] features__text_pipeline__vect__ngram_range=(1, 2) ...............\n",
      "[CV]  features__text_pipeline__vect__ngram_range=(1, 2), total= 3.4min\n",
      "[CV] features__text_pipeline__vect__ngram_range=(1, 2) ...............\n",
      "[CV]  features__text_pipeline__vect__ngram_range=(1, 2), total= 3.5min\n",
      "[CV] features__text_pipeline__vect__ngram_range=(1, 2) ...............\n",
      "[CV]  features__text_pipeline__vect__ngram_range=(1, 2), total= 3.4min\n"
     ]
    },
    {
     "name": "stderr",
     "output_type": "stream",
     "text": [
      "[Parallel(n_jobs=-1)]: Done  10 out of  10 | elapsed: 26.8min finished\n"
     ]
    },
    {
     "data": {
      "text/plain": [
       "GridSearchCV(cv=None, error_score=nan,\n",
       "             estimator=Pipeline(memory=None,\n",
       "                                steps=[('features',\n",
       "                                        FeatureUnion(n_jobs=None,\n",
       "                                                     transformer_list=[('text_pipeline',\n",
       "                                                                        Pipeline(memory=None,\n",
       "                                                                                 steps=[('vect',\n",
       "                                                                                         CountVectorizer(analyzer='word',\n",
       "                                                                                                         binary=False,\n",
       "                                                                                                         decode_error='strict',\n",
       "                                                                                                         dtype=<class 'numpy.int64'>,\n",
       "                                                                                                         encoding='utf-8',\n",
       "                                                                                                         input='content',\n",
       "                                                                                                         lowercase=True,\n",
       "                                                                                                         max_df=1.0,\n",
       "                                                                                                         max_features=N...\n",
       "                                        MultiOutputClassifier(estimator=AdaBoostClassifier(algorithm='SAMME.R',\n",
       "                                                                                           base_estimator=None,\n",
       "                                                                                           learning_rate=1.0,\n",
       "                                                                                           n_estimators=50,\n",
       "                                                                                           random_state=None),\n",
       "                                                              n_jobs=None))],\n",
       "                                verbose=False),\n",
       "             iid='deprecated', n_jobs=-1,\n",
       "             param_grid={'features__text_pipeline__vect__ngram_range': ((1, 1),\n",
       "                                                                        (1,\n",
       "                                                                         2))},\n",
       "             pre_dispatch='2*n_jobs', refit=True, return_train_score=False,\n",
       "             scoring=make_scorer(multioutput_fscore), verbose=2)"
      ]
     },
     "execution_count": 60,
     "metadata": {},
     "output_type": "execute_result"
    }
   ],
   "source": [
    "model = new_model_pipeline()\n",
    "\n",
    "parameters = {\n",
    "    'features__text_pipeline__vect__ngram_range': ((1, 1), (1, 2)),\n",
    "#    'features__text_pipeline__vect__max_df': (0.75, 1.0),\n",
    "#    'features__text_pipeline__vect__max_features': (None, 5000),\n",
    "#    'features__text_pipeline__tfidf__use_idf': (True, False),\n",
    "#    'clf__n_estimators': [10, 100],\n",
    "#    'clf__learning_rate': [0.01, 0.1],\n",
    "#    'features__transformer_weights': (\n",
    "#        {'text_pipeline': 1, 'starting_verb': 0.5},\n",
    "#        {'text_pipeline': 0.5, 'starting_verb': 1},\n",
    "#        {'text_pipeline': 0.8, 'starting_verb': 1},\n",
    "#    )\n",
    "}\n",
    "\n",
    "scorer = make_scorer(multioutput_fscore,greater_is_better = True)\n",
    "\n",
    "cv = GridSearchCV(model, param_grid=parameters, scoring = scorer,verbose = 2, n_jobs = -1)\n",
    "\n",
    "cv.fit(X_train, Y_train)"
   ]
  },
  {
   "cell_type": "markdown",
   "metadata": {},
   "source": [
    "### 9. Export your model as a pickle file"
   ]
  },
  {
   "cell_type": "code",
   "execution_count": 61,
   "metadata": {},
   "outputs": [
    {
     "data": {
      "text/plain": [
       "['disaster_model.pkl']"
      ]
     },
     "execution_count": 61,
     "metadata": {},
     "output_type": "execute_result"
    }
   ],
   "source": [
    "import joblib\n",
    "joblib.dump(cv.best_estimator_, 'disaster_model.pkl')"
   ]
  },
  {
   "cell_type": "markdown",
   "metadata": {},
   "source": [
    "### 10. Use this notebook to complete `train.py`\n",
    "Use the template file attached in the Resources folder to write a script that runs the steps above to create a database and export a model based on a new dataset specified by the user."
   ]
  },
  {
   "cell_type": "code",
   "execution_count": null,
   "metadata": {},
   "outputs": [],
   "source": []
  },
  {
   "cell_type": "code",
   "execution_count": null,
   "metadata": {},
   "outputs": [],
   "source": []
  }
 ],
 "metadata": {
  "kernelspec": {
   "display_name": "Python 3",
   "language": "python",
   "name": "python3"
  },
  "language_info": {
   "codemirror_mode": {
    "name": "ipython",
    "version": 3
   },
   "file_extension": ".py",
   "mimetype": "text/x-python",
   "name": "python",
   "nbconvert_exporter": "python",
   "pygments_lexer": "ipython3",
   "version": "3.6.3"
  }
 },
 "nbformat": 4,
 "nbformat_minor": 2
}
